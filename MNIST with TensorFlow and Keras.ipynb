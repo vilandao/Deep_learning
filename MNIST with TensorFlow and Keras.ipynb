{
 "cells": [
  {
   "cell_type": "markdown",
   "metadata": {},
   "source": [
    "## Predict Hand written numbers MNIST using TensorFlow and Keras\n",
    "\n",
    "Throughout this kernal, we'll be using a famous optical character recognition (OCR) dataset called MNIST. This dataset comprises of 70000 grayscale images of handwritten digits. Using this dataset in deep learning research and education is classical and that's why we choose it here. In the following, we'll load the dataset and do some data preprocessing. As we'll see shortly, each image is represented as 28x28 pixel data. This is a two-dimensional vector. We'll first convert this to a vector of 784 length which will be single-dimensional. We also normalize each vector by dividing each element by 255 (this is the maximum value of the RGB color scale).\n",
    "We load the MNIST dataset using Keras' datasets module. We use mnist class from this module to load the MNIST data. \n",
    "\n",
    "Our purpose is to build a deep learning model that can predict the 10 digit numbers based on hand written images.\n",
    "\n",
    "Let's start by installing TensorFlow"
   ]
  },
  {
   "cell_type": "code",
   "execution_count": 2,
   "metadata": {},
   "outputs": [
    {
     "name": "stdout",
     "output_type": "stream",
     "text": [
      "Collecting tensorflow\n",
      "  Downloading tensorflow-2.1.0-cp37-cp37m-macosx_10_11_x86_64.whl (120.8 MB)\n",
      "\u001b[K     |████████████████████████████████| 120.8 MB 26 kB/s  eta 0:00:011  |██▌                             | 9.3 MB 1.2 MB/s eta 0:01:32     |███▋                            | 13.7 MB 21.4 MB/s eta 0:00:05     |████▉                           | 18.2 MB 21.4 MB/s eta 0:00:05     |███████████▍                    | 42.9 MB 15.3 MB/s eta 0:00:06     |████████████▊                   | 48.2 MB 15.3 MB/s eta 0:00:05     |████████████████▎               | 61.7 MB 25.9 MB/s eta 0:00:03     |████████████████████            | 75.4 MB 23.1 MB/s eta 0:00:02     |███████████████████████         | 87.0 MB 23.1 MB/s eta 0:00:02��███▌  | 111.3 MB 31.6 MB/s eta 0:00:01███▋  | 111.7 MB 1.9 MB/s eta 0:00:05\n",
      "\u001b[?25hCollecting opt-einsum>=2.3.2\n",
      "  Downloading opt_einsum-3.2.1-py3-none-any.whl (63 kB)\n",
      "\u001b[K     |████████████████████████████████| 63 kB 4.1 MB/s  eta 0:00:01\n",
      "\u001b[?25hCollecting keras-applications>=1.0.8\n",
      "  Downloading Keras_Applications-1.0.8-py3-none-any.whl (50 kB)\n",
      "\u001b[K     |████████████████████████████████| 50 kB 4.7 MB/s  eta 0:00:01\n",
      "\u001b[?25hCollecting google-pasta>=0.1.6\n",
      "  Downloading google_pasta-0.2.0-py3-none-any.whl (57 kB)\n",
      "\u001b[K     |████████████████████████████████| 57 kB 8.5 MB/s  eta 0:00:01\n",
      "\u001b[?25hCollecting keras-preprocessing>=1.1.0\n",
      "  Downloading Keras_Preprocessing-1.1.0-py2.py3-none-any.whl (41 kB)\n",
      "\u001b[K     |████████████████████████████████| 41 kB 2.0 MB/s  eta 0:00:01\n",
      "\u001b[?25hRequirement already satisfied: protobuf>=3.8.0 in /Users/vilandao/opt/anaconda3/lib/python3.7/site-packages (from tensorflow) (3.11.3)\n",
      "Collecting termcolor>=1.1.0\n",
      "  Downloading termcolor-1.1.0.tar.gz (3.9 kB)\n",
      "Collecting grpcio>=1.8.6\n",
      "  Downloading grpcio-1.28.1-cp37-cp37m-macosx_10_9_x86_64.whl (2.6 MB)\n",
      "\u001b[K     |████████████████████████████████| 2.6 MB 2.3 MB/s eta 0:00:01\n",
      "\u001b[?25hRequirement already satisfied: wheel>=0.26; python_version >= \"3\" in /Users/vilandao/opt/anaconda3/lib/python3.7/site-packages (from tensorflow) (0.33.6)\n",
      "Collecting tensorboard<2.2.0,>=2.1.0\n",
      "  Downloading tensorboard-2.1.1-py3-none-any.whl (3.8 MB)\n",
      "\u001b[K     |████████████████████████████████| 3.8 MB 14.4 MB/s eta 0:00:01\n",
      "\u001b[?25hCollecting scipy==1.4.1; python_version >= \"3\"\n",
      "  Downloading scipy-1.4.1-cp37-cp37m-macosx_10_6_intel.whl (28.4 MB)\n",
      "\u001b[K     |████████████████████████████████| 28.4 MB 50.4 MB/s eta 0:00:01   |▌                               | 440 kB 3.4 MB/s eta 0:00:09     |██████▌                         | 5.7 MB 3.4 MB/s eta 0:00:07     |███████▌                        | 6.6 MB 3.4 MB/s eta 0:00:07     |██████████████████████████▊     | 23.7 MB 50.4 MB/s eta 0:00:01\n",
      "\u001b[?25hCollecting astor>=0.6.0\n",
      "  Downloading astor-0.8.1-py2.py3-none-any.whl (27 kB)\n",
      "Requirement already satisfied: six>=1.12.0 in /Users/vilandao/opt/anaconda3/lib/python3.7/site-packages (from tensorflow) (1.12.0)\n",
      "Collecting gast==0.2.2\n",
      "  Downloading gast-0.2.2.tar.gz (10 kB)\n",
      "Requirement already satisfied: wrapt>=1.11.1 in /Users/vilandao/opt/anaconda3/lib/python3.7/site-packages (from tensorflow) (1.11.2)\n",
      "Collecting absl-py>=0.7.0\n",
      "  Downloading absl-py-0.9.0.tar.gz (104 kB)\n",
      "\u001b[K     |████████████████████████████████| 104 kB 13.5 MB/s eta 0:00:01\n",
      "\u001b[?25hRequirement already satisfied: numpy<2.0,>=1.16.0 in /Users/vilandao/opt/anaconda3/lib/python3.7/site-packages (from tensorflow) (1.17.2)\n",
      "Collecting tensorflow-estimator<2.2.0,>=2.1.0rc0\n",
      "  Downloading tensorflow_estimator-2.1.0-py2.py3-none-any.whl (448 kB)\n",
      "\u001b[K     |████████████████████████████████| 448 kB 10.8 MB/s eta 0:00:01\n",
      "\u001b[?25hRequirement already satisfied: h5py in /Users/vilandao/opt/anaconda3/lib/python3.7/site-packages (from keras-applications>=1.0.8->tensorflow) (2.9.0)\n",
      "Requirement already satisfied: setuptools in /Users/vilandao/opt/anaconda3/lib/python3.7/site-packages (from protobuf>=3.8.0->tensorflow) (41.4.0)\n",
      "Requirement already satisfied: google-auth<2,>=1.6.3 in /Users/vilandao/opt/anaconda3/lib/python3.7/site-packages (from tensorboard<2.2.0,>=2.1.0->tensorflow) (1.13.1)\n",
      "Requirement already satisfied: werkzeug>=0.11.15 in /Users/vilandao/opt/anaconda3/lib/python3.7/site-packages (from tensorboard<2.2.0,>=2.1.0->tensorflow) (0.16.0)\n",
      "Collecting markdown>=2.6.8\n",
      "  Downloading Markdown-3.2.1-py2.py3-none-any.whl (88 kB)\n",
      "\u001b[K     |████████████████████████████████| 88 kB 11.0 MB/s eta 0:00:01\n",
      "\u001b[?25hCollecting google-auth-oauthlib<0.5,>=0.4.1\n",
      "  Downloading google_auth_oauthlib-0.4.1-py2.py3-none-any.whl (18 kB)\n",
      "Requirement already satisfied: requests<3,>=2.21.0 in /Users/vilandao/opt/anaconda3/lib/python3.7/site-packages (from tensorboard<2.2.0,>=2.1.0->tensorflow) (2.22.0)\n",
      "Requirement already satisfied: cachetools<5.0,>=2.0.0 in /Users/vilandao/opt/anaconda3/lib/python3.7/site-packages (from google-auth<2,>=1.6.3->tensorboard<2.2.0,>=2.1.0->tensorflow) (4.0.0)\n",
      "Requirement already satisfied: rsa<4.1,>=3.1.4 in /Users/vilandao/opt/anaconda3/lib/python3.7/site-packages (from google-auth<2,>=1.6.3->tensorboard<2.2.0,>=2.1.0->tensorflow) (4.0)\n",
      "Requirement already satisfied: pyasn1-modules>=0.2.1 in /Users/vilandao/opt/anaconda3/lib/python3.7/site-packages (from google-auth<2,>=1.6.3->tensorboard<2.2.0,>=2.1.0->tensorflow) (0.2.8)\n",
      "Collecting requests-oauthlib>=0.7.0\n",
      "  Downloading requests_oauthlib-1.3.0-py2.py3-none-any.whl (23 kB)\n",
      "Requirement already satisfied: chardet<3.1.0,>=3.0.2 in /Users/vilandao/opt/anaconda3/lib/python3.7/site-packages (from requests<3,>=2.21.0->tensorboard<2.2.0,>=2.1.0->tensorflow) (3.0.4)\n",
      "Requirement already satisfied: idna<2.9,>=2.5 in /Users/vilandao/opt/anaconda3/lib/python3.7/site-packages (from requests<3,>=2.21.0->tensorboard<2.2.0,>=2.1.0->tensorflow) (2.8)\n",
      "Requirement already satisfied: urllib3!=1.25.0,!=1.25.1,<1.26,>=1.21.1 in /Users/vilandao/opt/anaconda3/lib/python3.7/site-packages (from requests<3,>=2.21.0->tensorboard<2.2.0,>=2.1.0->tensorflow) (1.24.2)\n",
      "Requirement already satisfied: certifi>=2017.4.17 in /Users/vilandao/opt/anaconda3/lib/python3.7/site-packages (from requests<3,>=2.21.0->tensorboard<2.2.0,>=2.1.0->tensorflow) (2019.9.11)\n",
      "Requirement already satisfied: pyasn1>=0.1.3 in /Users/vilandao/opt/anaconda3/lib/python3.7/site-packages (from rsa<4.1,>=3.1.4->google-auth<2,>=1.6.3->tensorboard<2.2.0,>=2.1.0->tensorflow) (0.4.8)\n",
      "Collecting oauthlib>=3.0.0\n",
      "  Downloading oauthlib-3.1.0-py2.py3-none-any.whl (147 kB)\n",
      "\u001b[K     |████████████████████████████████| 147 kB 13.2 MB/s eta 0:00:01\n",
      "\u001b[?25hBuilding wheels for collected packages: termcolor, gast, absl-py\n",
      "  Building wheel for termcolor (setup.py) ... \u001b[?25ldone\n",
      "\u001b[?25h  Created wheel for termcolor: filename=termcolor-1.1.0-py3-none-any.whl size=4830 sha256=3c4db2106af12546eec954ef9f88b740a29406737b8b841aa9399bd6a1e8b76f\n",
      "  Stored in directory: /Users/vilandao/Library/Caches/pip/wheels/3f/e3/ec/8a8336ff196023622fbcb36de0c5a5c218cbb24111d1d4c7f2\n",
      "  Building wheel for gast (setup.py) ... \u001b[?25ldone\n",
      "\u001b[?25h  Created wheel for gast: filename=gast-0.2.2-py3-none-any.whl size=7539 sha256=f0871ce2e10e0f74cf25ad63080c422c845c179341cc34aec1b7f9a5c38cd278\n",
      "  Stored in directory: /Users/vilandao/Library/Caches/pip/wheels/21/7f/02/420f32a803f7d0967b48dd823da3f558c5166991bfd204eef3\n",
      "  Building wheel for absl-py (setup.py) ... \u001b[?25ldone\n",
      "\u001b[?25h  Created wheel for absl-py: filename=absl_py-0.9.0-py3-none-any.whl size=121931 sha256=1b1cdc451758ce23d9838dad52667e3ac8a15e4a90df0c3fe9e724002283dfa6\n",
      "  Stored in directory: /Users/vilandao/Library/Caches/pip/wheels/cc/af/1a/498a24d0730ef484019e007bb9e8cef3ac00311a672c049a3e\n",
      "Successfully built termcolor gast absl-py\n",
      "Installing collected packages: opt-einsum, keras-applications, google-pasta, keras-preprocessing, termcolor, grpcio, absl-py, markdown, oauthlib, requests-oauthlib, google-auth-oauthlib, tensorboard, scipy, astor, gast, tensorflow-estimator, tensorflow\n",
      "  Attempting uninstall: scipy\n",
      "    Found existing installation: scipy 1.3.1\n",
      "    Uninstalling scipy-1.3.1:\n",
      "      Successfully uninstalled scipy-1.3.1\n",
      "Successfully installed absl-py-0.9.0 astor-0.8.1 gast-0.2.2 google-auth-oauthlib-0.4.1 google-pasta-0.2.0 grpcio-1.28.1 keras-applications-1.0.8 keras-preprocessing-1.1.0 markdown-3.2.1 oauthlib-3.1.0 opt-einsum-3.2.1 requests-oauthlib-1.3.0 scipy-1.4.1 tensorboard-2.1.1 tensorflow-2.1.0 tensorflow-estimator-2.1.0 termcolor-1.1.0\n"
     ]
    },
    {
     "name": "stdout",
     "output_type": "stream",
     "text": [
      "Note: you may need to restart the kernel to use updated packages.\n"
     ]
    }
   ],
   "source": [
    "pip install tensorflow"
   ]
  },
  {
   "cell_type": "code",
   "execution_count": 3,
   "metadata": {},
   "outputs": [],
   "source": [
    "# Load the dataset:\n",
    "import warnings\n",
    "warnings.filterwarnings(\"ignore\")\n",
    "\n",
    "from tensorflow.keras.datasets import mnist"
   ]
  },
  {
   "cell_type": "code",
   "execution_count": 4,
   "metadata": {},
   "outputs": [
    {
     "name": "stdout",
     "output_type": "stream",
     "text": [
      "Downloading data from https://storage.googleapis.com/tensorflow/tf-keras-datasets/mnist.npz\n",
      "11493376/11490434 [==============================] - 1s 0us/step\n"
     ]
    }
   ],
   "source": [
    "# Split the dataset and do our preprocessing:\n",
    "(X_train, y_train), (X_test, y_test) = mnist.load_data()\n",
    "\n",
    "input_dim = 784  # 28*28 is the original 2D image. We transform our 2D dataset to 1D\n",
    "output_dim = nb_classes = 10 # 10 digits --> 10 classes\n",
    "batch_size = 128\n",
    "nb_epoch = 20\n",
    "\n",
    "X_train = X_train.reshape(60000, input_dim) # 60000 is the amount of train entries\n",
    "X_test = X_test.reshape(10000, input_dim) # 10000 is the amount of test entries\n",
    "X_train = X_train.astype('float32')\n",
    "X_test = X_test.astype('float32')\n",
    "X_train /= 255 # normalize each vector by dividing each element by 255 (this is the maximum value of the RGB color scale)\n",
    "X_test /= 255"
   ]
  },
  {
   "cell_type": "code",
   "execution_count": 5,
   "metadata": {},
   "outputs": [],
   "source": [
    "# One hot code our target variable using to_categorical function of Keras' utils module\n",
    "from tensorflow.keras.utils import to_categorical\n",
    "\n",
    "Y_train = to_categorical(y_train, nb_classes)\n",
    "Y_test = to_categorical(y_test, nb_classes)"
   ]
  },
  {
   "cell_type": "code",
   "execution_count": 7,
   "metadata": {},
   "outputs": [
    {
     "data": {
      "text/plain": [
       "(60000, 784)"
      ]
     },
     "execution_count": 7,
     "metadata": {},
     "output_type": "execute_result"
    }
   ],
   "source": [
    "# Take a look at the shape of X_train. We have 60000 rows and 784 features\n",
    "X_train.shape"
   ]
  },
  {
   "cell_type": "code",
   "execution_count": 9,
   "metadata": {},
   "outputs": [
    {
     "data": {
      "image/png": "[encoded data removed]",
      "text/plain": [
       "<Figure size 1440x360 with 4 Axes>"
      ]
     },
     "metadata": {
      "needs_background": "light"
     },
     "output_type": "display_data"
    }
   ],
   "source": [
    "# Take a look at some of the original images:\n",
    "import matplotlib.pyplot as plt\n",
    "\n",
    "plt.figure(figsize=(20,5))\n",
    "\n",
    "plt.subplot(1,4,1)\n",
    "plt.imshow(X_train[123].reshape(28,28), cmap=\"gray\")\n",
    "plt.title(\"Label of the image: {}\".format(y_train[123]))\n",
    "\n",
    "plt.subplot(1,4,2)\n",
    "plt.imshow(X_train[124].reshape(28,28), cmap=\"gray\")\n",
    "plt.title(\"Label of the image: {}\".format(y_train[124]))\n",
    "\n",
    "plt.subplot(1,4,3)\n",
    "plt.imshow(X_train[125].reshape(28,28), cmap=\"gray\")\n",
    "plt.title(\"Label of the image: {}\".format(y_train[125]))\n",
    "\n",
    "plt.subplot(1,4,4)\n",
    "plt.imshow(X_train[126].reshape(28,28), cmap=\"gray\")\n",
    "plt.title(\"Label of the image: {}\".format(y_train[126]))\n",
    "\n",
    "plt.show()"
   ]
  },
  {
   "cell_type": "markdown",
   "metadata": {},
   "source": [
    "### First model"
   ]
  },
  {
   "cell_type": "code",
   "execution_count": 10,
   "metadata": {},
   "outputs": [],
   "source": [
    "# Defining the model:\n",
    "from tensorflow.keras.models import Sequential \n",
    "from tensorflow.keras.layers import Dense\n",
    "\n",
    "model = Sequential()\n",
    "# our first dense layer\n",
    "model.add(Dense(1028, input_shape=(784,), activation=\"relu\"))\n",
    "# our second dense layer\n",
    "model.add(Dense(1028, activation=\"relu\"))\n",
    "# last layer is the output layer.\n",
    "model.add(Dense(10, activation=\"softmax\"))"
   ]
  },
  {
   "cell_type": "code",
   "execution_count": 11,
   "metadata": {},
   "outputs": [
    {
     "name": "stdout",
     "output_type": "stream",
     "text": [
      "Model: \"sequential\"\n",
      "_________________________________________________________________\n",
      "Layer (type)                 Output Shape              Param #   \n",
      "=================================================================\n",
      "dense (Dense)                (None, 1028)              806980    \n",
      "_________________________________________________________________\n",
      "dense_1 (Dense)              (None, 1028)              1057812   \n",
      "_________________________________________________________________\n",
      "dense_2 (Dense)              (None, 10)                10290     \n",
      "=================================================================\n",
      "Total params: 1,875,082\n",
      "Trainable params: 1,875,082\n",
      "Non-trainable params: 0\n",
      "_________________________________________________________________\n"
     ]
    }
   ],
   "source": [
    "model.summary()"
   ]
  },
  {
   "cell_type": "code",
   "execution_count": 12,
   "metadata": {},
   "outputs": [],
   "source": [
    "# Compiling the model:\n",
    "model.compile(optimizer='sgd', loss='categorical_crossentropy',\n",
    "              metrics=['accuracy'])"
   ]
  },
  {
   "cell_type": "code",
   "execution_count": 13,
   "metadata": {},
   "outputs": [
    {
     "name": "stdout",
     "output_type": "stream",
     "text": [
      "Train on 60000 samples\n",
      "Epoch 1/20\n",
      "60000/60000 [==============================] - 25s 416us/sample - loss: 1.0370 - accuracy: 0.7776\n",
      "Epoch 2/20\n",
      "60000/60000 [==============================] - 25s 410us/sample - loss: 0.4281 - accuracy: 0.8892\n",
      "Epoch 3/20\n",
      "60000/60000 [==============================] - 22s 359us/sample - loss: 0.3448 - accuracy: 0.9056\n",
      "Epoch 4/20\n",
      "60000/60000 [==============================] - 20s 342us/sample - loss: 0.3063 - accuracy: 0.9145\n",
      "Epoch 5/20\n",
      "60000/60000 [==============================] - 21s 351us/sample - loss: 0.2812 - accuracy: 0.9212\n",
      "Epoch 6/20\n",
      "60000/60000 [==============================] - 21s 346us/sample - loss: 0.2620 - accuracy: 0.9267\n",
      "Epoch 7/20\n",
      "60000/60000 [==============================] - 22s 360us/sample - loss: 0.2463 - accuracy: 0.9315\n",
      "Epoch 8/20\n",
      "60000/60000 [==============================] - 20s 340us/sample - loss: 0.2324 - accuracy: 0.9341\n",
      "Epoch 9/20\n",
      "60000/60000 [==============================] - 23s 391us/sample - loss: 0.2204 - accuracy: 0.9381\n",
      "Epoch 10/20\n",
      "60000/60000 [==============================] - 23s 379us/sample - loss: 0.2097 - accuracy: 0.9414\n",
      "Epoch 11/20\n",
      "60000/60000 [==============================] - 25s 421us/sample - loss: 0.1999 - accuracy: 0.9438\n",
      "Epoch 12/20\n",
      "60000/60000 [==============================] - 22s 361us/sample - loss: 0.1911 - accuracy: 0.9464\n",
      "Epoch 13/20\n",
      "60000/60000 [==============================] - 22s 361us/sample - loss: 0.1828 - accuracy: 0.9487\n",
      "Epoch 14/20\n",
      "60000/60000 [==============================] - 21s 344us/sample - loss: 0.1753 - accuracy: 0.9510\n",
      "Epoch 15/20\n",
      "60000/60000 [==============================] - 21s 344us/sample - loss: 0.1685 - accuracy: 0.9524\n",
      "Epoch 16/20\n",
      "60000/60000 [==============================] - 21s 352us/sample - loss: 0.1619 - accuracy: 0.9549\n",
      "Epoch 17/20\n",
      "60000/60000 [==============================] - 21s 351us/sample - loss: 0.1559 - accuracy: 0.9565\n",
      "Epoch 18/20\n",
      "60000/60000 [==============================] - 21s 349us/sample - loss: 0.1503 - accuracy: 0.9578\n",
      "Epoch 19/20\n",
      "60000/60000 [==============================] - 20s 342us/sample - loss: 0.1450 - accuracy: 0.9591\n",
      "Epoch 20/20\n",
      "60000/60000 [==============================] - 22s 367us/sample - loss: 0.1401 - accuracy: 0.9607\n"
     ]
    },
    {
     "data": {
      "text/plain": [
       "<tensorflow.python.keras.callbacks.History at 0x148030610>"
      ]
     },
     "execution_count": 13,
     "metadata": {},
     "output_type": "execute_result"
    }
   ],
   "source": [
    "# setting verbose=1 prints out some results after each epoch\n",
    "model.fit(X_train, Y_train, batch_size=batch_size, epochs=20, verbose=1)"
   ]
  },
  {
   "cell_type": "code",
   "execution_count": 14,
   "metadata": {
    "scrolled": true
   },
   "outputs": [
    {
     "name": "stdout",
     "output_type": "stream",
     "text": [
      "Test score: 0.14314549036175012\n",
      "Test accuracy: 0.9585\n"
     ]
    }
   ],
   "source": [
    "# Print out the testing score:\n",
    "score = model.evaluate(X_test, Y_test, verbose=0)\n",
    "print('Test score:', score[0])\n",
    "print('Test accuracy:', score[1])"
   ]
  },
  {
   "cell_type": "markdown",
   "metadata": {},
   "source": [
    "The test set accuracy of our model is almost 96%. This is quite a very good result! Let's play with our model, specifically with the model's hyperparameters to see if we can improve our result.\n",
    "\n",
    "### Second model:"
   ]
  },
  {
   "cell_type": "code",
   "execution_count": 15,
   "metadata": {},
   "outputs": [],
   "source": [
    "model1 = Sequential()\n",
    "# our first dense layer\n",
    "model1.add(Dense(32, input_shape=(784,), activation=\"relu\"))\n",
    "# our second dense layer\n",
    "model1.add(Dense(16, activation=\"relu\"))\n",
    "# last layer is the output layer.\n",
    "model1.add(Dense(10, activation=\"softmax\"))"
   ]
  },
  {
   "cell_type": "code",
   "execution_count": 16,
   "metadata": {},
   "outputs": [
    {
     "name": "stdout",
     "output_type": "stream",
     "text": [
      "Model: \"sequential_1\"\n",
      "_________________________________________________________________\n",
      "Layer (type)                 Output Shape              Param #   \n",
      "=================================================================\n",
      "dense_3 (Dense)              (None, 32)                25120     \n",
      "_________________________________________________________________\n",
      "dense_4 (Dense)              (None, 16)                528       \n",
      "_________________________________________________________________\n",
      "dense_5 (Dense)              (None, 10)                170       \n",
      "=================================================================\n",
      "Total params: 25,818\n",
      "Trainable params: 25,818\n",
      "Non-trainable params: 0\n",
      "_________________________________________________________________\n"
     ]
    }
   ],
   "source": [
    "model1.summary()"
   ]
  },
  {
   "cell_type": "code",
   "execution_count": 17,
   "metadata": {},
   "outputs": [],
   "source": [
    "model1.compile(optimizer='sgd', loss='categorical_crossentropy',\n",
    "              metrics=['accuracy'])"
   ]
  },
  {
   "cell_type": "code",
   "execution_count": 18,
   "metadata": {},
   "outputs": [
    {
     "name": "stdout",
     "output_type": "stream",
     "text": [
      "Train on 60000 samples\n",
      "Epoch 1/20\n",
      "60000/60000 [==============================] - 5s 90us/sample - loss: 1.3724 - accuracy: 0.5854\n",
      "Epoch 2/20\n",
      "60000/60000 [==============================] - 2s 38us/sample - loss: 0.6659 - accuracy: 0.8188\n",
      "Epoch 3/20\n",
      "60000/60000 [==============================] - 3s 46us/sample - loss: 0.4817 - accuracy: 0.8677\n",
      "Epoch 4/20\n",
      "60000/60000 [==============================] - 3s 49us/sample - loss: 0.4040 - accuracy: 0.8872\n",
      "Epoch 5/20\n",
      "60000/60000 [==============================] - 3s 42us/sample - loss: 0.3623 - accuracy: 0.8974s - loss: 0.3\n",
      "Epoch 6/20\n",
      "60000/60000 [==============================] - 2s 32us/sample - loss: 0.3352 - accuracy: 0.9047\n",
      "Epoch 7/20\n",
      "60000/60000 [==============================] - 2s 31us/sample - loss: 0.3158 - accuracy: 0.9097\n",
      "Epoch 8/20\n",
      "60000/60000 [==============================] - 2s 29us/sample - loss: 0.3006 - accuracy: 0.9142\n",
      "Epoch 9/20\n",
      "60000/60000 [==============================] - 1s 24us/sample - loss: 0.2879 - accuracy: 0.9186\n",
      "Epoch 10/20\n",
      "60000/60000 [==============================] - 1s 25us/sample - loss: 0.2769 - accuracy: 0.9212\n",
      "Epoch 11/20\n",
      "60000/60000 [==============================] - 2s 26us/sample - loss: 0.2675 - accuracy: 0.9237\n",
      "Epoch 12/20\n",
      "60000/60000 [==============================] - 1s 24us/sample - loss: 0.2588 - accuracy: 0.9263\n",
      "Epoch 13/20\n",
      "60000/60000 [==============================] - 2s 28us/sample - loss: 0.2512 - accuracy: 0.9291\n",
      "Epoch 14/20\n",
      "60000/60000 [==============================] - 1s 24us/sample - loss: 0.2443 - accuracy: 0.9308\n",
      "Epoch 15/20\n",
      "60000/60000 [==============================] - 1s 24us/sample - loss: 0.2376 - accuracy: 0.9330\n",
      "Epoch 16/20\n",
      "60000/60000 [==============================] - 1s 23us/sample - loss: 0.2317 - accuracy: 0.9342\n",
      "Epoch 17/20\n",
      "60000/60000 [==============================] - 1s 22us/sample - loss: 0.2259 - accuracy: 0.9364\n",
      "Epoch 18/20\n",
      "60000/60000 [==============================] - 1s 23us/sample - loss: 0.2206 - accuracy: 0.9381\n",
      "Epoch 19/20\n",
      "60000/60000 [==============================] - 1s 23us/sample - loss: 0.2159 - accuracy: 0.9392\n",
      "Epoch 20/20\n",
      "60000/60000 [==============================] - 1s 24us/sample - loss: 0.2108 - accuracy: 0.9404\n"
     ]
    },
    {
     "data": {
      "text/plain": [
       "<tensorflow.python.keras.callbacks.History at 0x1548f5650>"
      ]
     },
     "execution_count": 18,
     "metadata": {},
     "output_type": "execute_result"
    }
   ],
   "source": [
    "# setting verbose=1 prints out some results after each epoch\n",
    "model1.fit(X_train, Y_train, batch_size=batch_size, epochs=20, verbose=1)"
   ]
  },
  {
   "cell_type": "code",
   "execution_count": 19,
   "metadata": {
    "scrolled": true
   },
   "outputs": [
    {
     "name": "stdout",
     "output_type": "stream",
     "text": [
      "Test score: 0.20947346605658532\n",
      "Test accuracy: 0.9388\n"
     ]
    }
   ],
   "source": [
    "score = model1.evaluate(X_test, Y_test, verbose=0)\n",
    "print('Test score:', score[0])\n",
    "print('Test accuracy:', score[1])"
   ]
  },
  {
   "cell_type": "markdown",
   "metadata": {},
   "source": [
    "Our second model has the same number of layer as our first model, but has less neurons. Our second model took a lot less time to execute, but has a smaller accuracy compared to the first model.\n",
    "\n",
    "### Third model:"
   ]
  },
  {
   "cell_type": "code",
   "execution_count": 20,
   "metadata": {},
   "outputs": [],
   "source": [
    "model2 = Sequential()\n",
    "# our first dense layer\n",
    "model2.add(Dense(1024, input_shape=(784,), activation=\"relu\"))\n",
    "# our second dense layer\n",
    "model2.add(Dense(512, activation=\"relu\"))\n",
    "# our third dense layer\n",
    "model2.add(Dense(256, activation=\"relu\"))\n",
    "# our fourth dense layer\n",
    "model2.add(Dense(128, activation=\"relu\"))\n",
    "# our fifth dense layer\n",
    "model2.add(Dense(64, activation=\"relu\"))\n",
    "# last layer is the output layer.\n",
    "model2.add(Dense(10, activation=\"softmax\"))"
   ]
  },
  {
   "cell_type": "code",
   "execution_count": 22,
   "metadata": {},
   "outputs": [
    {
     "name": "stdout",
     "output_type": "stream",
     "text": [
      "Model: \"sequential_2\"\n",
      "_________________________________________________________________\n",
      "Layer (type)                 Output Shape              Param #   \n",
      "=================================================================\n",
      "dense_6 (Dense)              (None, 1024)              803840    \n",
      "_________________________________________________________________\n",
      "dense_7 (Dense)              (None, 512)               524800    \n",
      "_________________________________________________________________\n",
      "dense_8 (Dense)              (None, 256)               131328    \n",
      "_________________________________________________________________\n",
      "dense_9 (Dense)              (None, 128)               32896     \n",
      "_________________________________________________________________\n",
      "dense_10 (Dense)             (None, 64)                8256      \n",
      "_________________________________________________________________\n",
      "dense_11 (Dense)             (None, 10)                650       \n",
      "=================================================================\n",
      "Total params: 1,501,770\n",
      "Trainable params: 1,501,770\n",
      "Non-trainable params: 0\n",
      "_________________________________________________________________\n"
     ]
    }
   ],
   "source": [
    "model2.summary()"
   ]
  },
  {
   "cell_type": "code",
   "execution_count": 23,
   "metadata": {},
   "outputs": [],
   "source": [
    "model2.compile(optimizer='sgd', loss='categorical_crossentropy',\n",
    "              metrics=['accuracy'])"
   ]
  },
  {
   "cell_type": "code",
   "execution_count": 24,
   "metadata": {},
   "outputs": [
    {
     "name": "stdout",
     "output_type": "stream",
     "text": [
      "Train on 60000 samples\n",
      "Epoch 1/20\n",
      "60000/60000 [==============================] - 22s 372us/sample - loss: 1.1635 - accuracy: 0.7113\n",
      "Epoch 2/20\n",
      "60000/60000 [==============================] - 17s 291us/sample - loss: 0.3533 - accuracy: 0.9013\n",
      "Epoch 3/20\n",
      "60000/60000 [==============================] - 17s 280us/sample - loss: 0.2741 - accuracy: 0.9218\n",
      "Epoch 4/20\n",
      "60000/60000 [==============================] - 17s 289us/sample - loss: 0.2337 - accuracy: 0.9320\n",
      "Epoch 5/20\n",
      "60000/60000 [==============================] - 18s 308us/sample - loss: 0.2047 - accuracy: 0.9412\n",
      "Epoch 6/20\n",
      "60000/60000 [==============================] - 17s 283us/sample - loss: 0.1813 - accuracy: 0.9482\n",
      "Epoch 7/20\n",
      "60000/60000 [==============================] - 17s 282us/sample - loss: 0.1627 - accuracy: 0.9525\n",
      "Epoch 8/20\n",
      "60000/60000 [==============================] - 18s 293us/sample - loss: 0.1479 - accuracy: 0.9577\n",
      "Epoch 9/20\n",
      "60000/60000 [==============================] - 17s 291us/sample - loss: 0.1340 - accuracy: 0.9611\n",
      "Epoch 10/20\n",
      "60000/60000 [==============================] - 19s 311us/sample - loss: 0.1220 - accuracy: 0.9646\n",
      "Epoch 11/20\n",
      "60000/60000 [==============================] - 17s 286us/sample - loss: 0.1114 - accuracy: 0.9678\n",
      "Epoch 12/20\n",
      "60000/60000 [==============================] - 17s 290us/sample - loss: 0.1023 - accuracy: 0.9711\n",
      "Epoch 13/20\n",
      "60000/60000 [==============================] - 17s 288us/sample - loss: 0.0941 - accuracy: 0.9728\n",
      "Epoch 14/20\n",
      "60000/60000 [==============================] - 17s 280us/sample - loss: 0.0869 - accuracy: 0.9754\n",
      "Epoch 15/20\n",
      "60000/60000 [==============================] - 17s 285us/sample - loss: 0.0798 - accuracy: 0.9776\n",
      "Epoch 16/20\n",
      "60000/60000 [==============================] - 17s 289us/sample - loss: 0.0743 - accuracy: 0.9791\n",
      "Epoch 17/20\n",
      "60000/60000 [==============================] - 17s 291us/sample - loss: 0.0686 - accuracy: 0.9804\n",
      "Epoch 18/20\n",
      "60000/60000 [==============================] - 17s 290us/sample - loss: 0.0636 - accuracy: 0.9821\n",
      "Epoch 19/20\n",
      "60000/60000 [==============================] - 18s 292us/sample - loss: 0.0589 - accuracy: 0.9837\n",
      "Epoch 20/20\n",
      "60000/60000 [==============================] - 17s 287us/sample - loss: 0.0548 - accuracy: 0.9845\n"
     ]
    },
    {
     "data": {
      "text/plain": [
       "<tensorflow.python.keras.callbacks.History at 0x153d2acd0>"
      ]
     },
     "execution_count": 24,
     "metadata": {},
     "output_type": "execute_result"
    }
   ],
   "source": [
    "# setting verbose=1 prints out some results after each epoch\n",
    "model2.fit(X_train, Y_train, batch_size=batch_size, epochs=20, verbose=1)"
   ]
  },
  {
   "cell_type": "code",
   "execution_count": 26,
   "metadata": {},
   "outputs": [
    {
     "name": "stdout",
     "output_type": "stream",
     "text": [
      "Test score: 0.08257538281586022\n",
      "Test accuracy: 0.9747\n"
     ]
    }
   ],
   "source": [
    "score = model2.evaluate(X_test, Y_test, verbose=0)\n",
    "print('Test score:', score[0])\n",
    "print('Test accuracy:', score[1])"
   ]
  },
  {
   "cell_type": "markdown",
   "metadata": {},
   "source": [
    "Our third model has 3 more layer of neurons. It took a bit longer to execute, but increased our accuracy by 2%."
   ]
  }
 ],
 "metadata": {
  "kernelspec": {
   "display_name": "Python 3",
   "language": "python",
   "name": "python3"
  },
  "language_info": {
   "codemirror_mode": {
    "name": "ipython",
    "version": 3
   },
   "file_extension": ".py",
   "mimetype": "text/x-python",
   "name": "python",
   "nbconvert_exporter": "python",
   "pygments_lexer": "ipython3",
   "version": "3.7.4"
  }
 },
 "nbformat": 4,
 "nbformat_minor": 2
}
