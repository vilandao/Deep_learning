{
 "cells": [
  {
   "cell_type": "code",
   "execution_count": 1,
   "metadata": {},
   "outputs": [],
   "source": [
    "# Load the dataset:\n",
    "import warnings\n",
    "warnings.filterwarnings(\"ignore\")\n",
    "\n",
    "from tensorflow.keras.datasets import mnist"
   ]
  },
  {
   "cell_type": "code",
   "execution_count": 2,
   "metadata": {},
   "outputs": [],
   "source": [
    "# Split the dataset and do our preprocessing:\n",
    "(X_train, y_train), (X_test, y_test) = mnist.load_data()\n",
    "\n",
    "input_dim = 784  # 28*28 is the original 2D image. We transform our 2D dataset to 1D\n",
    "output_dim = nb_classes = 10 # 10 digits --> 10 classes\n",
    "nb_epoch = 20\n",
    "\n",
    "X_train = X_train.reshape(60000, input_dim) # 60000 is the amount of train entries\n",
    "X_test = X_test.reshape(10000, input_dim) # 10000 is the amount of test entries\n",
    "X_train = X_train.astype('float32')\n",
    "X_test = X_test.astype('float32')\n",
    "X_train /= 255 # normalize each vector by dividing each element by 255 (this is the maximum value of the RGB color scale)\n",
    "X_test /= 255"
   ]
  },
  {
   "cell_type": "code",
   "execution_count": 3,
   "metadata": {},
   "outputs": [],
   "source": [
    "# One hot code our target variable using to_categorical function of Keras' utils module\n",
    "from tensorflow.keras.utils import to_categorical\n",
    "\n",
    "Y_train = to_categorical(y_train, nb_classes)\n",
    "Y_test = to_categorical(y_test, nb_classes)"
   ]
  },
  {
   "cell_type": "code",
   "execution_count": 4,
   "metadata": {},
   "outputs": [
    {
     "data": {
      "text/plain": [
       "(60000, 784)"
      ]
     },
     "execution_count": 4,
     "metadata": {},
     "output_type": "execute_result"
    }
   ],
   "source": [
    "# Take a look at the shape of X_train. We have 60000 rows and 784 features\n",
    "X_train.shape"
   ]
  },
  {
   "cell_type": "code",
   "execution_count": 6,
   "metadata": {
    "scrolled": true
   },
   "outputs": [
    {
     "data": {
      "image/png": "[encoded data removed]",
      "text/plain": [
       "<Figure size 1440x360 with 4 Axes>"
      ]
     },
     "metadata": {
      "needs_background": "light"
     },
     "output_type": "display_data"
    }
   ],
   "source": [
    "# Take a look at some of the original images:\n",
    "import matplotlib.pyplot as plt\n",
    "\n",
    "plt.figure(figsize=(20,5))\n",
    "\n",
    "plt.subplot(1,4,1)\n",
    "plt.imshow(X_train[123].reshape(28,28), cmap=\"gray\")\n",
    "plt.title(\"Label of the image: {}\".format(y_train[123]))\n",
    "\n",
    "plt.subplot(1,4,2)\n",
    "plt.imshow(X_train[124].reshape(28,28), cmap=\"gray\")\n",
    "plt.title(\"Label of the image: {}\".format(y_train[124]))\n",
    "\n",
    "plt.subplot(1,4,3)\n",
    "plt.imshow(X_train[125].reshape(28,28), cmap=\"gray\")\n",
    "plt.title(\"Label of the image: {}\".format(y_train[125]))\n",
    "\n",
    "plt.subplot(1,4,4)\n",
    "plt.imshow(X_train[126].reshape(28,28), cmap=\"gray\")\n",
    "plt.title(\"Label of the image: {}\".format(y_train[126]))\n",
    "\n",
    "plt.show()"
   ]
  },
  {
   "cell_type": "markdown",
   "metadata": {},
   "source": [
    "### Implement a three layer ANN model with 128, 64 and 10 neurons in the layers using 8 as the mini batch size"
   ]
  },
  {
   "cell_type": "code",
   "execution_count": 9,
   "metadata": {},
   "outputs": [
    {
     "name": "stdout",
     "output_type": "stream",
     "text": [
      "Train on 60000 samples\n",
      "Epoch 1/20\n",
      "60000/60000 [==============================] - 18s 303us/sample - loss: 0.3647 - accuracy: 0.8969\n",
      "Epoch 2/20\n",
      "60000/60000 [==============================] - 19s 322us/sample - loss: 0.1686 - accuracy: 0.9503\n",
      "Epoch 3/20\n",
      "60000/60000 [==============================] - 22s 371us/sample - loss: 0.1240 - accuracy: 0.9636- los\n",
      "Epoch 4/20\n",
      "60000/60000 [==============================] - 19s 309us/sample - loss: 0.0980 - accuracy: 0.9707\n",
      "Epoch 5/20\n",
      "60000/60000 [==============================] - 17s 291us/sample - loss: 0.0798 - accuracy: 0.9765\n",
      "Epoch 6/20\n",
      "60000/60000 [==============================] - 18s 299us/sample - loss: 0.0669 - accuracy: 0.9796\n",
      "Epoch 7/20\n",
      "60000/60000 [==============================] - 16s 273us/sample - loss: 0.0567 - accuracy: 0.9834\n",
      "Epoch 8/20\n",
      "60000/60000 [==============================] - 18s 303us/sample - loss: 0.0487 - accuracy: 0.9856\n",
      "Epoch 9/20\n",
      "60000/60000 [==============================] - 18s 304us/sample - loss: 0.0426 - accuracy: 0.9873\n",
      "Epoch 10/20\n",
      "60000/60000 [==============================] - 18s 296us/sample - loss: 0.0362 - accuracy: 0.9898\n",
      "Epoch 11/20\n",
      "60000/60000 [==============================] - 17s 283us/sample - loss: 0.0311 - accuracy: 0.9916\n",
      "Epoch 12/20\n",
      "60000/60000 [==============================] - 20s 330us/sample - loss: 0.0276 - accuracy: 0.9924\n",
      "Epoch 13/20\n",
      "60000/60000 [==============================] - 25s 420us/sample - loss: 0.0238 - accuracy: 0.9937\n",
      "Epoch 14/20\n",
      "60000/60000 [==============================] - 18s 296us/sample - loss: 0.0202 - accuracy: 0.9949\n",
      "Epoch 15/20\n",
      "60000/60000 [==============================] - 18s 303us/sample - loss: 0.0172 - accuracy: 0.9961\n",
      "Epoch 16/20\n",
      "60000/60000 [==============================] - 18s 300us/sample - loss: 0.0152 - accuracy: 0.9963\n",
      "Epoch 17/20\n",
      "60000/60000 [==============================] - 21s 349us/sample - loss: 0.0133 - accuracy: 0.9970\n",
      "Epoch 18/20\n",
      "60000/60000 [==============================] - 20s 338us/sample - loss: 0.0114 - accuracy: 0.9978\n",
      "Epoch 19/20\n",
      "60000/60000 [==============================] - 21s 358us/sample - loss: 0.0097 - accuracy: 0.9984\n",
      "Epoch 20/20\n",
      "60000/60000 [==============================] - 19s 319us/sample - loss: 0.0083 - accuracy: 0.9988\n"
     ]
    },
    {
     "data": {
      "text/plain": [
       "<tensorflow.python.keras.callbacks.History at 0x144768710>"
      ]
     },
     "execution_count": 9,
     "metadata": {},
     "output_type": "execute_result"
    }
   ],
   "source": [
    "# Defining the model:\n",
    "from tensorflow.keras.models import Sequential \n",
    "from tensorflow.keras.layers import Dense\n",
    "\n",
    "model = Sequential()\n",
    "# our first dense layer\n",
    "model.add(Dense(128, input_shape=(784,), activation=\"relu\"))\n",
    "# our second dense layer\n",
    "model.add(Dense(64, activation=\"relu\"))\n",
    "# last layer is the output layer.\n",
    "model.add(Dense(10, activation=\"softmax\"))\n",
    "\n",
    "# Compiling the model:\n",
    "model.compile(optimizer='sgd', loss='categorical_crossentropy',\n",
    "              metrics=['accuracy'])\n",
    "\n",
    "# setting verbose=1 prints out some results after each epoch\n",
    "model.fit(X_train, Y_train, batch_size=8, epochs=20, verbose=1)"
   ]
  },
  {
   "cell_type": "code",
   "execution_count": 10,
   "metadata": {},
   "outputs": [
    {
     "name": "stdout",
     "output_type": "stream",
     "text": [
      "Test score: 0.07260856416276947\n",
      "Test accuracy: 0.9793\n"
     ]
    }
   ],
   "source": [
    "# Print out the testing score:\n",
    "score = model.evaluate(X_test, Y_test, verbose=0)\n",
    "print('Test score:', score[0])\n",
    "print('Test accuracy:', score[1])"
   ]
  },
  {
   "cell_type": "markdown",
   "metadata": {},
   "source": [
    "### Implement a three layer ANN model with 128, 64 and 10 neurons in the layers using 128 as the mini batch size"
   ]
  },
  {
   "cell_type": "code",
   "execution_count": 14,
   "metadata": {},
   "outputs": [
    {
     "name": "stdout",
     "output_type": "stream",
     "text": [
      "Train on 60000 samples\n",
      "Epoch 1/20\n",
      "60000/60000 [==============================] - 2s 42us/sample - loss: 1.1541 - accuracy: 0.7183\n",
      "Epoch 2/20\n",
      "60000/60000 [==============================] - 2s 34us/sample - loss: 0.4786 - accuracy: 0.8741\n",
      "Epoch 3/20\n",
      "60000/60000 [==============================] - 2s 35us/sample - loss: 0.3815 - accuracy: 0.8946\n",
      "Epoch 4/20\n",
      "60000/60000 [==============================] - 2s 34us/sample - loss: 0.3388 - accuracy: 0.9043\n",
      "Epoch 5/20\n",
      "60000/60000 [==============================] - 2s 34us/sample - loss: 0.3115 - accuracy: 0.9111\n",
      "Epoch 6/20\n",
      "60000/60000 [==============================] - 2s 36us/sample - loss: 0.2915 - accuracy: 0.9164\n",
      "Epoch 7/20\n",
      "60000/60000 [==============================] - 2s 34us/sample - loss: 0.2751 - accuracy: 0.9218\n",
      "Epoch 8/20\n",
      "60000/60000 [==============================] - 2s 35us/sample - loss: 0.2609 - accuracy: 0.9259\n",
      "Epoch 9/20\n",
      "60000/60000 [==============================] - 2s 39us/sample - loss: 0.2490 - accuracy: 0.9293\n",
      "Epoch 10/20\n",
      "60000/60000 [==============================] - 2s 34us/sample - loss: 0.2378 - accuracy: 0.9319\n",
      "Epoch 11/20\n",
      "60000/60000 [==============================] - 2s 35us/sample - loss: 0.2281 - accuracy: 0.9348\n",
      "Epoch 12/20\n",
      "60000/60000 [==============================] - 2s 34us/sample - loss: 0.2190 - accuracy: 0.9378\n",
      "Epoch 13/20\n",
      "60000/60000 [==============================] - 2s 35us/sample - loss: 0.2109 - accuracy: 0.9399\n",
      "Epoch 14/20\n",
      "60000/60000 [==============================] - 2s 34us/sample - loss: 0.2031 - accuracy: 0.9423\n",
      "Epoch 15/20\n",
      "60000/60000 [==============================] - 2s 35us/sample - loss: 0.1962 - accuracy: 0.9446\n",
      "Epoch 16/20\n",
      "60000/60000 [==============================] - 2s 34us/sample - loss: 0.1897 - accuracy: 0.9458\n",
      "Epoch 17/20\n",
      "60000/60000 [==============================] - 2s 36us/sample - loss: 0.1836 - accuracy: 0.9477\n",
      "Epoch 18/20\n",
      "60000/60000 [==============================] - 2s 37us/sample - loss: 0.1778 - accuracy: 0.9500\n",
      "Epoch 19/20\n",
      "60000/60000 [==============================] - 2s 34us/sample - loss: 0.1724 - accuracy: 0.9514\n",
      "Epoch 20/20\n",
      "60000/60000 [==============================] - 2s 35us/sample - loss: 0.1671 - accuracy: 0.9528\n"
     ]
    },
    {
     "data": {
      "text/plain": [
       "<tensorflow.python.keras.callbacks.History at 0x15000d350>"
      ]
     },
     "execution_count": 14,
     "metadata": {},
     "output_type": "execute_result"
    }
   ],
   "source": [
    "# Defining the model:\n",
    "from tensorflow.keras.models import Sequential \n",
    "from tensorflow.keras.layers import Dense\n",
    "\n",
    "model1 = Sequential()\n",
    "# our first dense layer\n",
    "model1.add(Dense(128, input_shape=(784,), activation=\"relu\"))\n",
    "# our second dense layer\n",
    "model1.add(Dense(64, activation=\"relu\"))\n",
    "# last layer is the output layer.\n",
    "model1.add(Dense(10, activation=\"softmax\"))\n",
    "\n",
    "# Compiling the model:\n",
    "model1.compile(optimizer='sgd', loss='categorical_crossentropy',\n",
    "              metrics=['accuracy'])\n",
    "\n",
    "# setting verbose=1 prints out some results after each epoch\n",
    "model1.fit(X_train, Y_train, batch_size=128, epochs=20, verbose=1)"
   ]
  },
  {
   "cell_type": "code",
   "execution_count": 13,
   "metadata": {},
   "outputs": [
    {
     "name": "stdout",
     "output_type": "stream",
     "text": [
      "Test score: 0.16940312106907368\n",
      "Test accuracy: 0.9516\n"
     ]
    }
   ],
   "source": [
    "# Print out the testing score:\n",
    "score = model1.evaluate(X_test, Y_test, verbose=0)\n",
    "print('Test score:', score[0])\n",
    "print('Test accuracy:', score[1])"
   ]
  },
  {
   "cell_type": "markdown",
   "metadata": {},
   "source": [
    "### Implement a three layer ANN model with 128, 64 and 10 neurons in the layers using the full sample as the batch"
   ]
  },
  {
   "cell_type": "code",
   "execution_count": 15,
   "metadata": {},
   "outputs": [
    {
     "name": "stdout",
     "output_type": "stream",
     "text": [
      "Train on 60000 samples\n",
      "Epoch 1/20\n",
      "60000/60000 [==============================] - 3s 55us/sample - loss: 2.3755 - accuracy: 0.0998\n",
      "Epoch 2/20\n",
      "60000/60000 [==============================] - 2s 27us/sample - loss: 2.3656 - accuracy: 0.1004\n",
      "Epoch 3/20\n",
      "60000/60000 [==============================] - 1s 21us/sample - loss: 2.3562 - accuracy: 0.1010\n",
      "Epoch 4/20\n",
      "60000/60000 [==============================] - 1s 22us/sample - loss: 2.3473 - accuracy: 0.1022\n",
      "Epoch 5/20\n",
      "60000/60000 [==============================] - 1s 23us/sample - loss: 2.3388 - accuracy: 0.1038\n",
      "Epoch 6/20\n",
      "60000/60000 [==============================] - 1s 18us/sample - loss: 2.3306 - accuracy: 0.1055\n",
      "Epoch 7/20\n",
      "60000/60000 [==============================] - 1s 15us/sample - loss: 2.3227 - accuracy: 0.1077\n",
      "Epoch 8/20\n",
      "60000/60000 [==============================] - 1s 13us/sample - loss: 2.3151 - accuracy: 0.1104\n",
      "Epoch 9/20\n",
      "60000/60000 [==============================] - 1s 14us/sample - loss: 2.3078 - accuracy: 0.1143\n",
      "Epoch 10/20\n",
      "60000/60000 [==============================] - 1s 13us/sample - loss: 2.3007 - accuracy: 0.1189\n",
      "Epoch 11/20\n",
      "60000/60000 [==============================] - 1s 14us/sample - loss: 2.2938 - accuracy: 0.1247\n",
      "Epoch 12/20\n",
      "60000/60000 [==============================] - 1s 13us/sample - loss: 2.2871 - accuracy: 0.1305\n",
      "Epoch 13/20\n",
      "60000/60000 [==============================] - 1s 13us/sample - loss: 2.2805 - accuracy: 0.1371\n",
      "Epoch 14/20\n",
      "60000/60000 [==============================] - 1s 14us/sample - loss: 2.2741 - accuracy: 0.1434\n",
      "Epoch 15/20\n",
      "60000/60000 [==============================] - 1s 16us/sample - loss: 2.2679 - accuracy: 0.1505\n",
      "Epoch 16/20\n",
      "60000/60000 [==============================] - 1s 14us/sample - loss: 2.2617 - accuracy: 0.1585\n",
      "Epoch 17/20\n",
      "60000/60000 [==============================] - 1s 12us/sample - loss: 2.2557 - accuracy: 0.1659\n",
      "Epoch 18/20\n",
      "60000/60000 [==============================] - 1s 13us/sample - loss: 2.2498 - accuracy: 0.1748\n",
      "Epoch 19/20\n",
      "60000/60000 [==============================] - 1s 15us/sample - loss: 2.2440 - accuracy: 0.1833\n",
      "Epoch 20/20\n",
      "60000/60000 [==============================] - 1s 15us/sample - loss: 2.2383 - accuracy: 0.1914\n"
     ]
    },
    {
     "data": {
      "text/plain": [
       "<tensorflow.python.keras.callbacks.History at 0x15028f650>"
      ]
     },
     "execution_count": 15,
     "metadata": {},
     "output_type": "execute_result"
    }
   ],
   "source": [
    "# Defining the model:\n",
    "from tensorflow.keras.models import Sequential \n",
    "from tensorflow.keras.layers import Dense\n",
    "\n",
    "model2 = Sequential()\n",
    "# our first dense layer\n",
    "model2.add(Dense(128, input_shape=(784,), activation=\"relu\"))\n",
    "# our second dense layer\n",
    "model2.add(Dense(64, activation=\"relu\"))\n",
    "# last layer is the output layer.\n",
    "model2.add(Dense(10, activation=\"softmax\"))\n",
    "\n",
    "# Compiling the model:\n",
    "model2.compile(optimizer='sgd', loss='categorical_crossentropy',\n",
    "              metrics=['accuracy'])\n",
    "\n",
    "# setting verbose=1 prints out some results after each epoch\n",
    "model2.fit(X_train, Y_train, batch_size=X_train.shape[0], epochs=20, verbose=1)"
   ]
  },
  {
   "cell_type": "code",
   "execution_count": 16,
   "metadata": {},
   "outputs": [
    {
     "name": "stdout",
     "output_type": "stream",
     "text": [
      "Test score: 2.2347884399414064\n",
      "Test accuracy: 0.198\n"
     ]
    }
   ],
   "source": [
    "# Print out the testing score:\n",
    "score = model2.evaluate(X_test, Y_test, verbose=0)\n",
    "print('Test score:', score[0])\n",
    "print('Test accuracy:', score[1])"
   ]
  },
  {
   "cell_type": "markdown",
   "metadata": {},
   "source": [
    "### Implement a three layer ANN model with 128, 64 and 10 neurons in the layers using 0.01 as the learning rate"
   ]
  },
  {
   "cell_type": "code",
   "execution_count": 17,
   "metadata": {},
   "outputs": [],
   "source": [
    "from tensorflow.keras import optimizers\n",
    "sgd_001 = optimizers.SGD(lr=0.01)\n",
    "sgd_100 = optimizers.SGD(lr=100)\n",
    "sgd_00000001 = optimizers.SGD(lr=0.0000001)"
   ]
  },
  {
   "cell_type": "code",
   "execution_count": 19,
   "metadata": {},
   "outputs": [
    {
     "name": "stdout",
     "output_type": "stream",
     "text": [
      "Train on 60000 samples\n",
      "Epoch 1/20\n",
      "60000/60000 [==============================] - 3s 45us/sample - loss: 1.2397 - accuracy: 0.6780\n",
      "Epoch 2/20\n",
      "60000/60000 [==============================] - 2s 42us/sample - loss: 0.5040 - accuracy: 0.8684\n",
      "Epoch 3/20\n",
      "60000/60000 [==============================] - 2s 34us/sample - loss: 0.3911 - accuracy: 0.8928\n",
      "Epoch 4/20\n",
      "60000/60000 [==============================] - 2s 36us/sample - loss: 0.3439 - accuracy: 0.9027\n",
      "Epoch 5/20\n",
      "60000/60000 [==============================] - 2s 37us/sample - loss: 0.3155 - accuracy: 0.9109\n",
      "Epoch 6/20\n",
      "60000/60000 [==============================] - 2s 35us/sample - loss: 0.2947 - accuracy: 0.9173\n",
      "Epoch 7/20\n",
      "60000/60000 [==============================] - 2s 40us/sample - loss: 0.2784 - accuracy: 0.9211\n",
      "Epoch 8/20\n",
      "60000/60000 [==============================] - 2s 38us/sample - loss: 0.2645 - accuracy: 0.9248\n",
      "Epoch 9/20\n",
      "60000/60000 [==============================] - 2s 34us/sample - loss: 0.2525 - accuracy: 0.9284\n",
      "Epoch 10/20\n",
      "60000/60000 [==============================] - 2s 34us/sample - loss: 0.2418 - accuracy: 0.9315\n",
      "Epoch 11/20\n",
      "60000/60000 [==============================] - 2s 34us/sample - loss: 0.2317 - accuracy: 0.9343\n",
      "Epoch 12/20\n",
      "60000/60000 [==============================] - 2s 34us/sample - loss: 0.2225 - accuracy: 0.9366\n",
      "Epoch 13/20\n",
      "60000/60000 [==============================] - 2s 34us/sample - loss: 0.2139 - accuracy: 0.9394s - loss:\n",
      "Epoch 14/20\n",
      "60000/60000 [==============================] - 2s 34us/sample - loss: 0.2060 - accuracy: 0.9410\n",
      "Epoch 15/20\n",
      "60000/60000 [==============================] - 2s 35us/sample - loss: 0.1986 - accuracy: 0.9431\n",
      "Epoch 16/20\n",
      "60000/60000 [==============================] - 2s 36us/sample - loss: 0.1916 - accuracy: 0.9453\n",
      "Epoch 17/20\n",
      "60000/60000 [==============================] - 2s 34us/sample - loss: 0.1850 - accuracy: 0.9471\n",
      "Epoch 18/20\n",
      "60000/60000 [==============================] - 2s 34us/sample - loss: 0.1790 - accuracy: 0.9486\n",
      "Epoch 19/20\n",
      "60000/60000 [==============================] - 2s 33us/sample - loss: 0.1734 - accuracy: 0.9503\n",
      "Epoch 20/20\n",
      "60000/60000 [==============================] - 2s 34us/sample - loss: 0.1678 - accuracy: 0.9523\n"
     ]
    },
    {
     "data": {
      "text/plain": [
       "<tensorflow.python.keras.callbacks.History at 0x15114bf90>"
      ]
     },
     "execution_count": 19,
     "metadata": {},
     "output_type": "execute_result"
    }
   ],
   "source": [
    "# Defining the model:\n",
    "from tensorflow.keras.models import Sequential \n",
    "from tensorflow.keras.layers import Dense\n",
    "\n",
    "model3 = Sequential()\n",
    "# our first dense layer\n",
    "model3.add(Dense(128, input_shape=(784,), activation=\"relu\"))\n",
    "# our second dense layer\n",
    "model3.add(Dense(64, activation=\"relu\"))\n",
    "# last layer is the output layer.\n",
    "model3.add(Dense(10, activation=\"softmax\"))\n",
    "\n",
    "# Compiling the model:\n",
    "model3.compile(optimizer=sgd_001, loss='categorical_crossentropy',\n",
    "              metrics=['accuracy'])\n",
    "\n",
    "# setting verbose=1 prints out some results after each epoch\n",
    "model3.fit(X_train, Y_train, batch_size=128, epochs=20, verbose=1)"
   ]
  },
  {
   "cell_type": "code",
   "execution_count": 20,
   "metadata": {},
   "outputs": [
    {
     "name": "stdout",
     "output_type": "stream",
     "text": [
      "Test score: 0.16598114916086196\n",
      "Test accuracy: 0.9506\n"
     ]
    }
   ],
   "source": [
    "# Print out the testing score:\n",
    "score = model3.evaluate(X_test, Y_test, verbose=0)\n",
    "print('Test score:', score[0])\n",
    "print('Test accuracy:', score[1])"
   ]
  },
  {
   "cell_type": "markdown",
   "metadata": {},
   "source": [
    "### Implement a three layer ANN model with 128, 64 and 10 neurons in the layers using 100 as the learning rate"
   ]
  },
  {
   "cell_type": "code",
   "execution_count": 21,
   "metadata": {},
   "outputs": [
    {
     "name": "stdout",
     "output_type": "stream",
     "text": [
      "Train on 60000 samples\n",
      "Epoch 1/20\n",
      "60000/60000 [==============================] - 3s 49us/sample - loss: 110325589.2361 - accuracy: 0.1017\n",
      "Epoch 2/20\n",
      "60000/60000 [==============================] - 2s 41us/sample - loss: 40.1435 - accuracy: 0.1007\n",
      "Epoch 3/20\n",
      "60000/60000 [==============================] - 2s 35us/sample - loss: 40.1978 - accuracy: 0.0988\n",
      "Epoch 4/20\n",
      "60000/60000 [==============================] - 2s 34us/sample - loss: 39.6207 - accuracy: 0.1016\n",
      "Epoch 5/20\n",
      "60000/60000 [==============================] - 2s 33us/sample - loss: 40.7930 - accuracy: 0.1000\n",
      "Epoch 6/20\n",
      "60000/60000 [==============================] - 2s 39us/sample - loss: 39.3494 - accuracy: 0.1026\n",
      "Epoch 7/20\n",
      "60000/60000 [==============================] - 2s 36us/sample - loss: 40.0644 - accuracy: 0.1006\n",
      "Epoch 8/20\n",
      "60000/60000 [==============================] - 2s 36us/sample - loss: 41.1019 - accuracy: 0.0979\n",
      "Epoch 9/20\n",
      "60000/60000 [==============================] - 2s 34us/sample - loss: 40.0284 - accuracy: 0.0993\n",
      "Epoch 10/20\n",
      "60000/60000 [==============================] - 2s 39us/sample - loss: 40.4798 - accuracy: 0.0982\n",
      "Epoch 11/20\n",
      "60000/60000 [==============================] - 2s 39us/sample - loss: 40.5576 - accuracy: 0.1003\n",
      "Epoch 12/20\n",
      "60000/60000 [==============================] - 2s 41us/sample - loss: 40.0494 - accuracy: 0.1009\n",
      "Epoch 13/20\n",
      "60000/60000 [==============================] - 2s 40us/sample - loss: 40.5274 - accuracy: 0.0995\n",
      "Epoch 14/20\n",
      "60000/60000 [==============================] - 2s 37us/sample - loss: 40.5971 - accuracy: 0.1005\n",
      "Epoch 15/20\n",
      "60000/60000 [==============================] - 2s 40us/sample - loss: 40.4405 - accuracy: 0.0979\n",
      "Epoch 16/20\n",
      "60000/60000 [==============================] - 2s 42us/sample - loss: 40.4655 - accuracy: 0.1015\n",
      "Epoch 17/20\n",
      "60000/60000 [==============================] - 2s 36us/sample - loss: 40.0168 - accuracy: 0.1008\n",
      "Epoch 18/20\n",
      "60000/60000 [==============================] - 2s 34us/sample - loss: 40.7170 - accuracy: 0.0990\n",
      "Epoch 19/20\n",
      "60000/60000 [==============================] - 2s 35us/sample - loss: 39.4014 - accuracy: 0.1017\n",
      "Epoch 20/20\n",
      "60000/60000 [==============================] - 2s 37us/sample - loss: 40.3583 - accuracy: 0.0996\n"
     ]
    },
    {
     "data": {
      "text/plain": [
       "<tensorflow.python.keras.callbacks.History at 0x1517fd090>"
      ]
     },
     "execution_count": 21,
     "metadata": {},
     "output_type": "execute_result"
    }
   ],
   "source": [
    "# Defining the model:\n",
    "from tensorflow.keras.models import Sequential \n",
    "from tensorflow.keras.layers import Dense\n",
    "\n",
    "model4 = Sequential()\n",
    "# our first dense layer\n",
    "model4.add(Dense(128, input_shape=(784,), activation=\"relu\"))\n",
    "# our second dense layer\n",
    "model4.add(Dense(64, activation=\"relu\"))\n",
    "# last layer is the output layer.\n",
    "model4.add(Dense(10, activation=\"softmax\"))\n",
    "\n",
    "# Compiling the model:\n",
    "model4.compile(optimizer=sgd_100, loss='categorical_crossentropy',\n",
    "              metrics=['accuracy'])\n",
    "\n",
    "# setting verbose=1 prints out some results after each epoch\n",
    "model4.fit(X_train, Y_train, batch_size=128, epochs=20, verbose=1)"
   ]
  },
  {
   "cell_type": "code",
   "execution_count": 22,
   "metadata": {},
   "outputs": [
    {
     "name": "stdout",
     "output_type": "stream",
     "text": [
      "Test score: 39.684728338623046\n",
      "Test accuracy: 0.0974\n"
     ]
    }
   ],
   "source": [
    "# Print out the testing score:\n",
    "score = model4.evaluate(X_test, Y_test, verbose=0)\n",
    "print('Test score:', score[0])\n",
    "print('Test accuracy:', score[1])"
   ]
  },
  {
   "cell_type": "markdown",
   "metadata": {},
   "source": [
    "### Implement a three layer ANN model with 128, 64 and 10 neurons in the layers using 0.0000001 as the learning rate"
   ]
  },
  {
   "cell_type": "code",
   "execution_count": 23,
   "metadata": {},
   "outputs": [
    {
     "name": "stdout",
     "output_type": "stream",
     "text": [
      "Train on 60000 samples\n",
      "Epoch 1/20\n",
      "60000/60000 [==============================] - 3s 44us/sample - loss: 2.3122 - accuracy: 0.0970\n",
      "Epoch 2/20\n",
      "60000/60000 [==============================] - 3s 42us/sample - loss: 2.3122 - accuracy: 0.0970\n",
      "Epoch 3/20\n",
      "60000/60000 [==============================] - 2s 39us/sample - loss: 2.3122 - accuracy: 0.0970\n",
      "Epoch 4/20\n",
      "60000/60000 [==============================] - 2s 36us/sample - loss: 2.3122 - accuracy: 0.0970\n",
      "Epoch 5/20\n",
      "60000/60000 [==============================] - 2s 35us/sample - loss: 2.3122 - accuracy: 0.0970\n",
      "Epoch 6/20\n",
      "60000/60000 [==============================] - 2s 34us/sample - loss: 2.3122 - accuracy: 0.0970\n",
      "Epoch 7/20\n",
      "60000/60000 [==============================] - 2s 33us/sample - loss: 2.3122 - accuracy: 0.0970\n",
      "Epoch 8/20\n",
      "60000/60000 [==============================] - 2s 37us/sample - loss: 2.3122 - accuracy: 0.0970\n",
      "Epoch 9/20\n",
      "60000/60000 [==============================] - 2s 34us/sample - loss: 2.3121 - accuracy: 0.0970\n",
      "Epoch 10/20\n",
      "60000/60000 [==============================] - 2s 34us/sample - loss: 2.3121 - accuracy: 0.0970\n",
      "Epoch 11/20\n",
      "60000/60000 [==============================] - 2s 34us/sample - loss: 2.3121 - accuracy: 0.0970\n",
      "Epoch 12/20\n",
      "60000/60000 [==============================] - 3s 45us/sample - loss: 2.3121 - accuracy: 0.0970\n",
      "Epoch 13/20\n",
      "60000/60000 [==============================] - 2s 39us/sample - loss: 2.3121 - accuracy: 0.0970\n",
      "Epoch 14/20\n",
      "60000/60000 [==============================] - 2s 33us/sample - loss: 2.3121 - accuracy: 0.0970\n",
      "Epoch 15/20\n",
      "60000/60000 [==============================] - 2s 36us/sample - loss: 2.3121 - accuracy: 0.0970\n",
      "Epoch 16/20\n",
      "60000/60000 [==============================] - 3s 50us/sample - loss: 2.3121 - accuracy: 0.0970\n",
      "Epoch 17/20\n",
      "60000/60000 [==============================] - 2s 39us/sample - loss: 2.3121 - accuracy: 0.0970\n",
      "Epoch 18/20\n",
      "60000/60000 [==============================] - 2s 37us/sample - loss: 2.3120 - accuracy: 0.0970\n",
      "Epoch 19/20\n",
      "60000/60000 [==============================] - 2s 39us/sample - loss: 2.3120 - accuracy: 0.0970\n",
      "Epoch 20/20\n",
      "60000/60000 [==============================] - 2s 36us/sample - loss: 2.3120 - accuracy: 0.0970\n"
     ]
    },
    {
     "data": {
      "text/plain": [
       "<tensorflow.python.keras.callbacks.History at 0x1516a13d0>"
      ]
     },
     "execution_count": 23,
     "metadata": {},
     "output_type": "execute_result"
    }
   ],
   "source": [
    "# Defining the model:\n",
    "from tensorflow.keras.models import Sequential \n",
    "from tensorflow.keras.layers import Dense\n",
    "\n",
    "model5 = Sequential()\n",
    "# our first dense layer\n",
    "model5.add(Dense(128, input_shape=(784,), activation=\"relu\"))\n",
    "# our second dense layer\n",
    "model5.add(Dense(64, activation=\"relu\"))\n",
    "# last layer is the output layer.\n",
    "model5.add(Dense(10, activation=\"softmax\"))\n",
    "\n",
    "# Compiling the model:\n",
    "model5.compile(optimizer=sgd_00000001, loss='categorical_crossentropy',\n",
    "              metrics=['accuracy'])\n",
    "\n",
    "# setting verbose=1 prints out some results after each epoch\n",
    "model5.fit(X_train, Y_train, batch_size=128, epochs=20, verbose=1)"
   ]
  },
  {
   "cell_type": "code",
   "execution_count": 24,
   "metadata": {},
   "outputs": [
    {
     "name": "stdout",
     "output_type": "stream",
     "text": [
      "Test score: 2.3115089763641357\n",
      "Test accuracy: 0.0984\n"
     ]
    }
   ],
   "source": [
    "# Print out the testing score:\n",
    "score = model5.evaluate(X_test, Y_test, verbose=0)\n",
    "print('Test score:', score[0])\n",
    "print('Test accuracy:', score[1])"
   ]
  }
 ],
 "metadata": {
  "kernelspec": {
   "display_name": "Python 3",
   "language": "python",
   "name": "python3"
  },
  "language_info": {
   "codemirror_mode": {
    "name": "ipython",
    "version": 3
   },
   "file_extension": ".py",
   "mimetype": "text/x-python",
   "name": "python",
   "nbconvert_exporter": "python",
   "pygments_lexer": "ipython3",
   "version": "3.7.4"
  }
 },
 "nbformat": 4,
 "nbformat_minor": 2
}
