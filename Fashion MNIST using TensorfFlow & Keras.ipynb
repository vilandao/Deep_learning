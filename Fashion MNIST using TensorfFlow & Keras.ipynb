{
 "cells": [
  {
   "cell_type": "markdown",
   "metadata": {},
   "source": [
    "## Image classification with Tensorflow: Fashion MNIST\n",
    "\n",
    "### Context:\n",
    "\n",
    "Fashion-MNIST is a dataset of Zalando's article images—consisting of a training set of 60,000 examples and a test set of 10,000 examples. Each example is a 28x28 grayscale image, associated with a label from 10 classes. Zalando intends Fashion-MNIST to serve as a direct drop-in replacement for the original MNIST dataset for benchmarking machine learning algorithms. It shares the same image size and structure of training and testing splits.\n",
    "\n",
    "The original MNIST dataset contains a lot of handwritten digits. Members of the AI/ML/Data Science community love this dataset and use it as a benchmark to validate their algorithms. In fact, MNIST is often the first dataset researchers try. \"If it doesn't work on MNIST, it won't work at all\", they said. \"Well, if it does work on MNIST, it may still fail on others.\"\n",
    "\n",
    "\n",
    "### Content\n",
    "\n",
    "Each image is 28 pixels in height and 28 pixels in width, for a total of 784 pixels in total. Each pixel has a single pixel-value associated with it, indicating the lightness or darkness of that pixel, with higher numbers meaning darker. This pixel-value is an integer between 0 and 255. The training and test data sets have 785 columns. The first column consists of the class labels (see above), and represents the article of clothing. The rest of the columns contain the pixel-values of the associated image.\n",
    "\n",
    "To locate a pixel on the image, suppose that we have decomposed x as x = i * 28 + j, where i and j are integers between 0 and 27. The pixel is located on row i and column j of a 28 x 28 matrix.\n",
    "For example, pixel31 indicates the pixel that is in the fourth column from the left, and the second row from the top, as in the ascii-diagram below.\n",
    "\n",
    "Each training and test example is assigned to one of the following labels:\n",
    "\n",
    "* 0 T-shirt/top\n",
    "* 1 Trouser\n",
    "* 2 Pullover\n",
    "* 3 Dress\n",
    "* 4 Coat\n",
    "* 5 Sandal\n",
    "* 6 Shirt\n",
    "* 7 Sneaker\n",
    "* 8 Bag\n",
    "* 9 Ankle boot\n",
    "\n",
    "### Kernel: \n",
    "\n",
    "In this kernel, we'll use TensorFlow and its Keras high-level neural network API to build neural networks to classify fashion images into 10 classes stated above.\n",
    "\n",
    "We'll use both traditional neural network and convolutional neural network.\n",
    "\n",
    "### 1. Traditional multi-layer perceptron neural network"
   ]
  },
  {
   "cell_type": "code",
   "execution_count": 8,
   "metadata": {},
   "outputs": [],
   "source": [
    "# Load the dataset:\n",
    "import matplotlib.pyplot as plt\n",
    "import warnings\n",
    "warnings.filterwarnings(\"ignore\")\n",
    "\n",
    "import tensorflow as tf\n",
    "import keras\n",
    "from tensorflow.keras.datasets import fashion_mnist\n",
    "from tensorflow.keras.models import Sequential \n",
    "from tensorflow.keras.layers import Dense, Dropout, Flatten, Reshape, InputLayer\n",
    "from tensorflow.keras.layers import BatchNormalization\n",
    "from tensorflow.keras.layers import Conv2D, MaxPooling2D\n",
    "from tensorflow.keras.utils import to_categorical"
   ]
  },
  {
   "cell_type": "code",
   "execution_count": 10,
   "metadata": {},
   "outputs": [],
   "source": [
    "# Split the dataset and do our preprocessing:\n",
    "(X_train, y_train), (X_test, y_test) = fashion_mnist.load_data()"
   ]
  },
  {
   "cell_type": "code",
   "execution_count": 73,
   "metadata": {},
   "outputs": [
    {
     "name": "stdout",
     "output_type": "stream",
     "text": [
      "(60000, 784) (60000,)\n",
      "(10000, 784) (10000,)\n"
     ]
    }
   ],
   "source": [
    "# Print out the shape of the dataset:\n",
    "print(X_train.shape, y_train.shape)\n",
    "print(X_test.shape, y_test.shape)"
   ]
  },
  {
   "cell_type": "code",
   "execution_count": 13,
   "metadata": {},
   "outputs": [],
   "source": [
    "# Data preprocessing\n",
    "input_dim = 784  # 28*28 is the original 2D image. We transform our 2D dataset to 1D\n",
    "output_dim = nb_classes = 10 # 10 fashion categories --> 10 classes\n",
    "\n",
    "# Reshape the dataset to fit neural network:\n",
    "X_train = X_train.reshape(60000, input_dim) # 60000 is the amount of train entries\n",
    "X_test = X_test.reshape(10000, input_dim) # 10000 is the amount of test entries\n",
    "X_train = X_train.astype('float32')\n",
    "X_test = X_test.astype('float32')\n",
    "X_train /= 255 # normalize each vector by dividing each element by 255 (this is the maximum value of the RGB color scale)\n",
    "X_test /= 255"
   ]
  },
  {
   "cell_type": "code",
   "execution_count": 14,
   "metadata": {},
   "outputs": [],
   "source": [
    "# One hot code our target variable using to_categorical function of Keras' utils module\n",
    "Y_train = to_categorical(y_train, nb_classes)\n",
    "Y_test = to_categorical(y_test, nb_classes)"
   ]
  },
  {
   "cell_type": "code",
   "execution_count": 15,
   "metadata": {},
   "outputs": [
    {
     "data": {
      "text/plain": [
       "(60000, 784)"
      ]
     },
     "execution_count": 15,
     "metadata": {},
     "output_type": "execute_result"
    }
   ],
   "source": [
    "# Take a look at the shape of X_train. We have 60000 rows and 784 features\n",
    "X_train.shape"
   ]
  },
  {
   "cell_type": "code",
   "execution_count": 18,
   "metadata": {},
   "outputs": [
    {
     "data": {
      "image/png": "[encoded data removed]",
      "text/plain": [
       "<Figure size 1440x360 with 4 Axes>"
      ]
     },
     "metadata": {
      "needs_background": "light"
     },
     "output_type": "display_data"
    }
   ],
   "source": [
    "# Take a look at some of the original images:\n",
    "plt.figure(figsize=(20,5))\n",
    "\n",
    "plt.subplot(1,4,1)\n",
    "plt.imshow(X_train[100].reshape(28,28), cmap=\"gray\")\n",
    "plt.title(\"Label of the image: {}\".format(y_train[100]))\n",
    "\n",
    "plt.subplot(1,4,2)\n",
    "plt.imshow(X_train[101].reshape(28,28), cmap=\"gray\")\n",
    "plt.title(\"Label of the image: {}\".format(y_train[101]))\n",
    "\n",
    "plt.subplot(1,4,3)\n",
    "plt.imshow(X_train[102].reshape(28,28), cmap=\"gray\")\n",
    "plt.title(\"Label of the image: {}\".format(y_train[102]))\n",
    "\n",
    "plt.subplot(1,4,4)\n",
    "plt.imshow(X_train[103].reshape(28,28), cmap=\"gray\")\n",
    "plt.title(\"Label of the image: {}\".format(y_train[103]))\n",
    "\n",
    "plt.show()"
   ]
  },
  {
   "cell_type": "code",
   "execution_count": 23,
   "metadata": {},
   "outputs": [],
   "source": [
    "# Defining the model:\n",
    "\n",
    "model = Sequential()\n",
    "# our first dense layer\n",
    "model.add(Dense(1028, input_shape=(784,), activation=\"relu\"))\n",
    "# our second dense layer\n",
    "model.add(Dense(1028, activation=\"relu\"))\n",
    "# our third dense layer\n",
    "model.add(Dense(256, activation=\"relu\"))\n",
    "# our fourth dense layer\n",
    "model.add(Dense(64, activation=\"relu\"))\n",
    "# last layer is the output layer.\n",
    "model.add(Dense(10, activation=\"softmax\"))"
   ]
  },
  {
   "cell_type": "code",
   "execution_count": 24,
   "metadata": {},
   "outputs": [
    {
     "name": "stdout",
     "output_type": "stream",
     "text": [
      "Model: \"sequential_1\"\n",
      "_________________________________________________________________\n",
      "Layer (type)                 Output Shape              Param #   \n",
      "=================================================================\n",
      "dense_3 (Dense)              (None, 1028)              806980    \n",
      "_________________________________________________________________\n",
      "dense_4 (Dense)              (None, 1028)              1057812   \n",
      "_________________________________________________________________\n",
      "dense_5 (Dense)              (None, 256)               263424    \n",
      "_________________________________________________________________\n",
      "dense_6 (Dense)              (None, 64)                16448     \n",
      "_________________________________________________________________\n",
      "dense_7 (Dense)              (None, 10)                650       \n",
      "=================================================================\n",
      "Total params: 2,145,314\n",
      "Trainable params: 2,145,314\n",
      "Non-trainable params: 0\n",
      "_________________________________________________________________\n"
     ]
    }
   ],
   "source": [
    "# Print out model summary\n",
    "model.summary()"
   ]
  },
  {
   "cell_type": "code",
   "execution_count": 25,
   "metadata": {},
   "outputs": [
    {
     "name": "stdout",
     "output_type": "stream",
     "text": [
      "Train on 60000 samples\n",
      "Epoch 1/20\n",
      "60000/60000 [==============================] - 29s 488us/sample - loss: 0.9308 - accuracy: 0.7154\n",
      "Epoch 2/20\n",
      "60000/60000 [==============================] - 27s 450us/sample - loss: 0.5562 - accuracy: 0.8115\n",
      "Epoch 3/20\n",
      "60000/60000 [==============================] - 27s 446us/sample - loss: 0.4915 - accuracy: 0.8292\n",
      "Epoch 4/20\n",
      "60000/60000 [==============================] - 27s 450us/sample - loss: 0.4541 - accuracy: 0.8407\n",
      "Epoch 5/20\n",
      "60000/60000 [==============================] - 27s 446us/sample - loss: 0.4324 - accuracy: 0.8486\n",
      "Epoch 6/20\n",
      "60000/60000 [==============================] - 27s 455us/sample - loss: 0.4143 - accuracy: 0.8551\n",
      "Epoch 7/20\n",
      "60000/60000 [==============================] - 27s 448us/sample - loss: 0.4003 - accuracy: 0.8583\n",
      "Epoch 8/20\n",
      "60000/60000 [==============================] - 27s 451us/sample - loss: 0.3868 - accuracy: 0.8648\n",
      "Epoch 9/20\n",
      "60000/60000 [==============================] - 27s 449us/sample - loss: 0.3766 - accuracy: 0.8676\n",
      "Epoch 10/20\n",
      "60000/60000 [==============================] - 27s 457us/sample - loss: 0.3685 - accuracy: 0.8690\n",
      "Epoch 11/20\n",
      "60000/60000 [==============================] - 28s 472us/sample - loss: 0.3572 - accuracy: 0.8718\n",
      "Epoch 12/20\n",
      "60000/60000 [==============================] - 30s 507us/sample - loss: 0.3499 - accuracy: 0.8758\n",
      "Epoch 13/20\n",
      "60000/60000 [==============================] - 28s 473us/sample - loss: 0.3428 - accuracy: 0.8781\n",
      "Epoch 14/20\n",
      "60000/60000 [==============================] - 30s 499us/sample - loss: 0.3343 - accuracy: 0.8808\n",
      "Epoch 15/20\n",
      "60000/60000 [==============================] - 28s 459us/sample - loss: 0.3291 - accuracy: 0.8823\n",
      "Epoch 16/20\n",
      "60000/60000 [==============================] - 27s 458us/sample - loss: 0.3224 - accuracy: 0.8849\n",
      "Epoch 17/20\n",
      "60000/60000 [==============================] - 28s 464us/sample - loss: 0.3170 - accuracy: 0.8868\n",
      "Epoch 18/20\n",
      "60000/60000 [==============================] - 28s 460us/sample - loss: 0.3108 - accuracy: 0.8882\n",
      "Epoch 19/20\n",
      "60000/60000 [==============================] - 28s 468us/sample - loss: 0.3062 - accuracy: 0.8892\n",
      "Epoch 20/20\n",
      "60000/60000 [==============================] - 28s 463us/sample - loss: 0.3017 - accuracy: 0.8918\n"
     ]
    },
    {
     "data": {
      "text/plain": [
       "<tensorflow.python.keras.callbacks.History at 0x105b113d0>"
      ]
     },
     "execution_count": 25,
     "metadata": {},
     "output_type": "execute_result"
    }
   ],
   "source": [
    "# Compiling the model:\n",
    "model.compile(optimizer='sgd', loss='categorical_crossentropy',\n",
    "              metrics=['accuracy'])\n",
    "\n",
    "# setting verbose=1 prints out some results after each epoch\n",
    "model.fit(X_train, Y_train, batch_size=128, epochs=20, verbose=1)"
   ]
  },
  {
   "cell_type": "code",
   "execution_count": 26,
   "metadata": {
    "scrolled": true
   },
   "outputs": [
    {
     "name": "stdout",
     "output_type": "stream",
     "text": [
      "Test score: 0.3604444666981697\n",
      "Test accuracy: 0.8715\n"
     ]
    }
   ],
   "source": [
    "# Print out the testing score:\n",
    "score = model.evaluate(X_test, Y_test, verbose=0)\n",
    "print('Test score:', score[0])\n",
    "print('Test accuracy:', score[1])"
   ]
  },
  {
   "cell_type": "markdown",
   "metadata": {},
   "source": [
    "Using Dense layer, and 4 hidden layers, we gained an accuracy score of 87%. This is pretty good, but I believe we can do better. Let's try using convolutional neural network (CNN) to see if we can improve our result."
   ]
  },
  {
   "cell_type": "markdown",
   "metadata": {},
   "source": [
    "### 2. Convolutional neural network using Conv2D and MaxPooling2D"
   ]
  },
  {
   "cell_type": "code",
   "execution_count": 31,
   "metadata": {},
   "outputs": [],
   "source": [
    "# Reload the dataset and split it into train and test set:\n",
    "(X1_train, y1_train), (X1_test, y1_test) = fashion_mnist.load_data()"
   ]
  },
  {
   "cell_type": "code",
   "execution_count": 32,
   "metadata": {},
   "outputs": [],
   "source": [
    "# One hot code our target variable using to_categorical function of Keras' utils module\n",
    "Y1_train = to_categorical(y1_train, nb_classes)\n",
    "Y1_test = to_categorical(y1_test, nb_classes)"
   ]
  },
  {
   "cell_type": "code",
   "execution_count": 66,
   "metadata": {
    "scrolled": true
   },
   "outputs": [],
   "source": [
    "# Reshape X1_train and X1_test to fit CNNs\n",
    "X1_train = X1_train.reshape(X1_train.shape[0], 28, 28, 1)\n",
    "X1_test = X1_test.reshape(X1_test.shape[0], 28, 28, 1)"
   ]
  },
  {
   "cell_type": "code",
   "execution_count": 67,
   "metadata": {},
   "outputs": [
    {
     "name": "stdout",
     "output_type": "stream",
     "text": [
      "(60000, 28, 28, 1) (60000, 10)\n",
      "(10000, 28, 28, 1) (10000, 10)\n"
     ]
    }
   ],
   "source": [
    "# Inspect the shape of our new dataset:\n",
    "print(X1_train.shape, Y1_train.shape)\n",
    "print(X1_test.shape, Y1_test.shape)"
   ]
  },
  {
   "cell_type": "code",
   "execution_count": 68,
   "metadata": {},
   "outputs": [],
   "source": [
    "# Defining the model:\n",
    "cnn = Sequential()\n",
    "\n",
    "# Define input layer:\n",
    "cnn.add(tf.keras.layers.InputLayer(input_shape=(28,28,1)))\n",
    "# Normalization\n",
    "cnn.add(tf.keras.layers.BatchNormalization())\n",
    "\n",
    "# Conv + Maxpooling\n",
    "cnn.add(tf.keras.layers.Convolution2D(64, (4, 4), padding='same', activation='relu'))\n",
    "cnn.add(tf.keras.layers.MaxPooling2D(pool_size=(2, 2)))\n",
    "# Dropout\n",
    "cnn.add(tf.keras.layers.Dropout(0.1))\n",
    "    \n",
    "# Conv + Maxpooling\n",
    "cnn.add(tf.keras.layers.Convolution2D(64, (4, 4), activation='relu'))\n",
    "cnn.add(tf.keras.layers.MaxPooling2D(pool_size=(2, 2)))\n",
    "# Dropout\n",
    "cnn.add(tf.keras.layers.Dropout(0.3))\n",
    "\n",
    "# Converting 3D feature to 1D feature Vector\n",
    "cnn.add(tf.keras.layers.Flatten())\n",
    "\n",
    "# Fully Connected Layer\n",
    "cnn.add(tf.keras.layers.Dense(256, activation='relu'))\n",
    "# Dropout\n",
    "cnn.add(tf.keras.layers.Dropout(0.5))\n",
    "    \n",
    "# Fully Connected Layer\n",
    "cnn.add(tf.keras.layers.Dense(64, activation='relu'))\n",
    "    \n",
    "# Normalization\n",
    "cnn.add(tf.keras.layers.BatchNormalization())\n",
    "\n",
    "# Output layer\n",
    "cnn.add(tf.keras.layers.Dense(10, activation='softmax'))"
   ]
  },
  {
   "cell_type": "code",
   "execution_count": 69,
   "metadata": {},
   "outputs": [
    {
     "name": "stdout",
     "output_type": "stream",
     "text": [
      "Model: \"sequential_16\"\n",
      "_________________________________________________________________\n",
      "Layer (type)                 Output Shape              Param #   \n",
      "=================================================================\n",
      "batch_normalization_20 (Batc (None, 28, 28, 1)         4         \n",
      "_________________________________________________________________\n",
      "conv2d_20 (Conv2D)           (None, 28, 28, 64)        1088      \n",
      "_________________________________________________________________\n",
      "max_pooling2d_16 (MaxPooling (None, 14, 14, 64)        0         \n",
      "_________________________________________________________________\n",
      "dropout_24 (Dropout)         (None, 14, 14, 64)        0         \n",
      "_________________________________________________________________\n",
      "conv2d_21 (Conv2D)           (None, 11, 11, 64)        65600     \n",
      "_________________________________________________________________\n",
      "max_pooling2d_17 (MaxPooling (None, 5, 5, 64)          0         \n",
      "_________________________________________________________________\n",
      "dropout_25 (Dropout)         (None, 5, 5, 64)          0         \n",
      "_________________________________________________________________\n",
      "flatten_8 (Flatten)          (None, 1600)              0         \n",
      "_________________________________________________________________\n",
      "dense_31 (Dense)             (None, 256)               409856    \n",
      "_________________________________________________________________\n",
      "dropout_26 (Dropout)         (None, 256)               0         \n",
      "_________________________________________________________________\n",
      "dense_32 (Dense)             (None, 64)                16448     \n",
      "_________________________________________________________________\n",
      "batch_normalization_21 (Batc (None, 64)                256       \n",
      "_________________________________________________________________\n",
      "dense_33 (Dense)             (None, 10)                650       \n",
      "=================================================================\n",
      "Total params: 493,902\n",
      "Trainable params: 493,772\n",
      "Non-trainable params: 130\n",
      "_________________________________________________________________\n"
     ]
    }
   ],
   "source": [
    "# Print model summary:\n",
    "create_model().summary()"
   ]
  },
  {
   "cell_type": "code",
   "execution_count": 70,
   "metadata": {},
   "outputs": [
    {
     "name": "stdout",
     "output_type": "stream",
     "text": [
      "Train on 60000 samples\n",
      "Epoch 1/20\n",
      "60000/60000 [==============================] - 139s 2ms/sample - loss: 0.6501 - accuracy: 0.7716\n",
      "Epoch 2/20\n",
      "60000/60000 [==============================] - 147s 2ms/sample - loss: 0.3765 - accuracy: 0.8627\n",
      "Epoch 3/20\n",
      "60000/60000 [==============================] - 139s 2ms/sample - loss: 0.3249 - accuracy: 0.8824\n",
      "Epoch 4/20\n",
      "60000/60000 [==============================] - 138s 2ms/sample - loss: 0.2981 - accuracy: 0.8898\n",
      "Epoch 5/20\n",
      "60000/60000 [==============================] - 141s 2ms/sample - loss: 0.2775 - accuracy: 0.8982\n",
      "Epoch 6/20\n",
      "60000/60000 [==============================] - 138s 2ms/sample - loss: 0.2603 - accuracy: 0.9039\n",
      "Epoch 7/20\n",
      "60000/60000 [==============================] - 137s 2ms/sample - loss: 0.2483 - accuracy: 0.9077\n",
      "Epoch 8/20\n",
      "60000/60000 [==============================] - 140s 2ms/sample - loss: 0.2347 - accuracy: 0.9136\n",
      "Epoch 9/20\n",
      "60000/60000 [==============================] - 137s 2ms/sample - loss: 0.2295 - accuracy: 0.9145\n",
      "Epoch 10/20\n",
      "60000/60000 [==============================] - 137s 2ms/sample - loss: 0.2227 - accuracy: 0.9165\n",
      "Epoch 11/20\n",
      "60000/60000 [==============================] - 136s 2ms/sample - loss: 0.2125 - accuracy: 0.9214\n",
      "Epoch 12/20\n",
      "60000/60000 [==============================] - 141s 2ms/sample - loss: 0.2067 - accuracy: 0.9225\n",
      "Epoch 13/20\n",
      "60000/60000 [==============================] - 139s 2ms/sample - loss: 0.1998 - accuracy: 0.9255\n",
      "Epoch 14/20\n",
      "60000/60000 [==============================] - 139s 2ms/sample - loss: 0.1926 - accuracy: 0.9268\n",
      "Epoch 15/20\n",
      "60000/60000 [==============================] - 136s 2ms/sample - loss: 0.1943 - accuracy: 0.9265\n",
      "Epoch 16/20\n",
      "60000/60000 [==============================] - 141s 2ms/sample - loss: 0.1845 - accuracy: 0.9308\n",
      "Epoch 17/20\n",
      "60000/60000 [==============================] - 138s 2ms/sample - loss: 0.1814 - accuracy: 0.9321\n",
      "Epoch 18/20\n",
      "60000/60000 [==============================] - 139s 2ms/sample - loss: 0.1759 - accuracy: 0.9334\n",
      "Epoch 19/20\n",
      "60000/60000 [==============================] - 138s 2ms/sample - loss: 0.1694 - accuracy: 0.9367\n",
      "Epoch 20/20\n",
      "60000/60000 [==============================] - 142s 2ms/sample - loss: 0.1681 - accuracy: 0.9375\n"
     ]
    },
    {
     "data": {
      "text/plain": [
       "<tensorflow.python.keras.callbacks.History at 0x1569ecc90>"
      ]
     },
     "execution_count": 70,
     "metadata": {},
     "output_type": "execute_result"
    }
   ],
   "source": [
    "# Compiling the model\n",
    "cnn.compile(loss='categorical_crossentropy', optimizer=tf.optimizers.Adam(), metrics=['accuracy'])\n",
    "\n",
    "# setting verbose=1 prints out some results after each epoch\n",
    "cnn.fit(X1_train, Y1_train, batch_size=256, epochs=20, verbose=1)"
   ]
  },
  {
   "cell_type": "code",
   "execution_count": 72,
   "metadata": {},
   "outputs": [
    {
     "name": "stdout",
     "output_type": "stream",
     "text": [
      "Test score: 0.2168041356563568\n",
      "Test accuracy: 0.9233\n"
     ]
    }
   ],
   "source": [
    "# Print out the testing score:\n",
    "score = cnn.evaluate(X1_test, Y1_test, verbose=0)\n",
    "print('Test score:', score[0])\n",
    "print('Test accuracy:', score[1])"
   ]
  },
  {
   "cell_type": "markdown",
   "metadata": {},
   "source": [
    "Our CNN model took quite longer to run (around 140s) per epoch compared to around 30s per epoch using the traditional method. However, our test accuracy using CNN model increased fron 87% to 92%!"
   ]
  }
 ],
 "metadata": {
  "kernelspec": {
   "display_name": "Python 3",
   "language": "python",
   "name": "python3"
  },
  "language_info": {
   "codemirror_mode": {
    "name": "ipython",
    "version": 3
   },
   "file_extension": ".py",
   "mimetype": "text/x-python",
   "name": "python",
   "nbconvert_exporter": "python",
   "pygments_lexer": "ipython3",
   "version": "3.7.4"
  }
 },
 "nbformat": 4,
 "nbformat_minor": 2
}
